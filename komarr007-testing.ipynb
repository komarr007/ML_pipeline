{
 "cells": [
  {
   "cell_type": "code",
   "execution_count": 2,
   "metadata": {},
   "outputs": [
    {
     "data": {
      "text/plain": [
       "'Not diagnosed diabet'"
      ]
     },
     "execution_count": 2,
     "metadata": {},
     "output_type": "execute_result"
    }
   ],
   "source": [
    "import requests\n",
    "import json\n",
    "import base64\n",
    "import tensorflow as tf\n",
    "\n",
    "inputs = {\n",
    "    \"Age\": 12,\n",
    "    \"BMI\": 0.1848072111606598,\n",
    "    \"BloodPressure\": 12,\n",
    "    \"DiabetesPedigreeFunction\": 0.4571339786052704,\n",
    "    \"Glucose\": 12,\n",
    "    \"Insulin\": 8,\n",
    "    \"Pregnancies\": 5,\n",
    "    \"SkinThickness\": 12\n",
    "}\n",
    "\n",
    "def float_feature(value):\n",
    "    return tf.train.Feature(\n",
    "        float_list=tf.train.FloatList(\n",
    "            value=[value]\n",
    "        ),\n",
    "    )\n",
    "\n",
    "def int_feature(value):\n",
    "    return tf.train.Feature(\n",
    "        int64_list=tf.train.Int64List(\n",
    "            value=[value]\n",
    "        ),\n",
    "    )\n",
    "\n",
    "def prepare_json(inputs: dict):\n",
    "    data = dict()\n",
    "    \n",
    "    for keys, values in inputs.items():\n",
    "        if isinstance(values, int):\n",
    "            data[keys] = int_feature(values)\n",
    "        elif isinstance(values, float):\n",
    "            data[keys] = float_feature(values)\n",
    "            \n",
    "    example = tf.train.Example(\n",
    "        features=tf.train.Features(feature=data)\n",
    "    ).SerializeToString()\n",
    "    \n",
    "    result = [\n",
    "        {\n",
    "            \"examples\": {\n",
    "                \"b64\": base64.b64encode(example).decode()\n",
    "            }\n",
    "        }\n",
    "    ]\n",
    "\n",
    "    return json.dumps({\n",
    "        \"signature_name\": \"serving_default\",\n",
    "        \"instances\": result,\n",
    "    })\n",
    "\n",
    "def make_predictions(inputs):\n",
    "    json_data = prepare_json(inputs)\n",
    "    \n",
    "    endpoint = \"https://mlpipeline-production.up.railway.app/v1/models/cc-model:predict\"\n",
    "    response = requests.post(endpoint, data=json_data)\n",
    "    prediction = response.json()\n",
    "\n",
    "    prediction = response.json()[\"predictions\"][0][0]\n",
    "    \n",
    "    if prediction < 0.6:\n",
    "        return \"Not diagnosed diabet\"\n",
    "    else:\n",
    "        return \"diagnosed diabet\"\n",
    "\n",
    "make_predictions(inputs)"
   ]
  },
  {
   "cell_type": "code",
   "execution_count": null,
   "metadata": {},
   "outputs": [],
   "source": []
  }
 ],
 "metadata": {
  "kernelspec": {
   "display_name": "mlops-tfx",
   "language": "python",
   "name": "python3"
  },
  "language_info": {
   "codemirror_mode": {
    "name": "ipython",
    "version": 3
   },
   "file_extension": ".py",
   "mimetype": "text/x-python",
   "name": "python",
   "nbconvert_exporter": "python",
   "pygments_lexer": "ipython3",
   "version": "3.9.15"
  },
  "orig_nbformat": 4,
  "vscode": {
   "interpreter": {
    "hash": "22379a9a8ee3f4afd6b937bde4363fa953eb891b2c542db6b1308e70329d7c61"
   }
  }
 },
 "nbformat": 4,
 "nbformat_minor": 2
}
